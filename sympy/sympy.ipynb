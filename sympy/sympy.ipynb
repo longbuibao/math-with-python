{
 "cells": [
  {
   "cell_type": "code",
   "execution_count": null,
   "metadata": {},
   "outputs": [],
   "source": [
    "import sympy as sym\n",
    "import numpy as np\n",
    "from IPython.display import Math,display\n",
    "\n",
    "sym.init_printing(True)\n",
    "\n",
    "x,y = sym.symbols(\"x,y\")\n",
    "\n",
    "display(x**4)\n",
    "display(10 * 18)\n",
    "display(x/3)\n",
    "display(sym.sqrt(2))\n",
    "display(y*(x**2))\n",
    "display(sym.sqrt(4))\n",
    "display(np.sqrt(10))"
   ]
  },
  {
   "cell_type": "code",
   "execution_count": null,
   "metadata": {},
   "outputs": [],
   "source": [
    "display(Math('\\\\sigma = \\\\mu \\\\times \\\\sqrt{10}'))\n",
    "display(Math('x_{mm}'))\n",
    "display(Math('x^{abc}'))\n",
    "display(Math('x^{1+1}'))\n",
    "display(Math('\\\\frac{1}{2}'))\n",
    "display(Math('\\\\text{The answer is 5} \\\\times \\\\text{6}'))"
   ]
  }
 ],
 "metadata": {
  "kernelspec": {
   "display_name": "Python 3 (ipykernel)",
   "language": "python",
   "name": "python3"
  },
  "language_info": {
   "codemirror_mode": {
    "name": "ipython",
    "version": 3
   },
   "file_extension": ".py",
   "mimetype": "text/x-python",
   "name": "python",
   "nbconvert_exporter": "python",
   "pygments_lexer": "ipython3",
   "version": "3.10.5"
  },
  "vscode": {
   "interpreter": {
    "hash": "31f2aee4e71d21fbe5cf8b01ff0e069b9275f58929596ceb00d14d90e3e16cd6"
   }
  }
 },
 "nbformat": 4,
 "nbformat_minor": 4
}
